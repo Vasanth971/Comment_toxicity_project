{
 "cells": [
  {
   "cell_type": "markdown",
   "id": "a7e0e586",
   "metadata": {},
   "source": [
    "# 1.Install Dependencies And Bring in Data\n"
   ]
  },
  {
   "cell_type": "code",
   "execution_count": null,
   "id": "57f361f0",
   "metadata": {},
   "outputs": [],
   "source": [
    "!pip install tensorflow"
   ]
  },
  {
   "cell_type": "code",
   "execution_count": null,
   "id": "d2a4cbe1",
   "metadata": {},
   "outputs": [],
   "source": [
    "!pip install tensorflow tensorflow-gpu pandas matplotlib sklearn"
   ]
  },
  {
   "cell_type": "code",
   "execution_count": null,
   "id": "058cc739",
   "metadata": {},
   "outputs": [],
   "source": [
    "import os\n",
    "!pip install pandas\n",
    "import pandas as pd\n",
    "import tensorflow as tf\n",
    "import numpy as np"
   ]
  },
  {
   "cell_type": "code",
   "execution_count": null,
   "id": "4375e7e5",
   "metadata": {},
   "outputs": [],
   "source": [
    "df = pd.read_csv('train.csv')"
   ]
  },
  {
   "cell_type": "code",
   "execution_count": null,
   "id": "e7f372af",
   "metadata": {},
   "outputs": [],
   "source": [
    "df.head()"
   ]
  },
  {
   "cell_type": "code",
   "execution_count": 6,
   "id": "a9b5c903",
   "metadata": {},
   "outputs": [
    {
     "data": {
      "text/plain": [
       "'\"\\nMore\\nI can\\'t make any real suggestions on improvement - I wondered if the section statistics should be later on, or a subsection of \"\"types of accidents\"\"  -I think the references may need tidying so that they are all in the exact same format ie date format etc. I can do that later on, if no-one else does first - if you have any preferences for formatting style on references or want to do it yourself please let me know.\\n\\nThere appears to be a backlog on articles for review so I guess there may be a delay until a reviewer turns up. It\\'s listed in the relevant form eg Wikipedia:Good_article_nominations#Transport  \"'"
      ]
     },
     "execution_count": 6,
     "metadata": {},
     "output_type": "execute_result"
    }
   ],
   "source": [
    "df.iloc[3]['comment_text']"
   ]
  },
  {
   "cell_type": "code",
   "execution_count": 7,
   "id": "cb5cee6c",
   "metadata": {},
   "outputs": [
    {
     "data": {
      "text/plain": [
       "toxic            0\n",
       "severe_toxic     0\n",
       "obscene          0\n",
       "threat           0\n",
       "insult           0\n",
       "identity_hate    0\n",
       "Name: 3, dtype: int64"
      ]
     },
     "execution_count": 7,
     "metadata": {},
     "output_type": "execute_result"
    }
   ],
   "source": [
    "df[df.columns[2:]].iloc[3]"
   ]
  },
  {
   "cell_type": "markdown",
   "id": "49cd8ddd",
   "metadata": {},
   "source": [
    "# 2.PREPROCESS"
   ]
  },
  {
   "cell_type": "code",
   "execution_count": 8,
   "id": "e0ed63cb",
   "metadata": {},
   "outputs": [],
   "source": [
    "from tensorflow.keras.layers import TextVectorization"
   ]
  },
  {
   "cell_type": "code",
   "execution_count": 9,
   "id": "88d0367f",
   "metadata": {},
   "outputs": [],
   "source": [
    "TextVectorization??"
   ]
  },
  {
   "cell_type": "code",
   "execution_count": 10,
   "id": "476d070c",
   "metadata": {},
   "outputs": [],
   "source": [
    "X = df['comment_text']\n",
    "y = df[df.columns[2:]].values"
   ]
  },
  {
   "cell_type": "code",
   "execution_count": 11,
   "id": "666ac059",
   "metadata": {},
   "outputs": [],
   "source": [
    "MAX_FEATURES = 200000 #NUMBER OF WORDS IN THE VOCAB"
   ]
  },
  {
   "cell_type": "code",
   "execution_count": 12,
   "id": "e1d3d59b",
   "metadata": {},
   "outputs": [],
   "source": [
    "vectorizer = TextVectorization(max_tokens=MAX_FEATURES,output_sequence_length = 1800,output_mode='int')"
   ]
  },
  {
   "cell_type": "code",
   "execution_count": 13,
   "id": "4d6dcbc4",
   "metadata": {},
   "outputs": [],
   "source": [
    "vectorizer.adapt(X.values)"
   ]
  },
  {
   "cell_type": "code",
   "execution_count": 14,
   "id": "552fefc9",
   "metadata": {},
   "outputs": [
    {
     "data": {
      "text/plain": [
       "<tf.Tensor: shape=(5,), dtype=int64, numpy=array([288, 263, 306,   9, 275], dtype=int64)>"
      ]
     },
     "execution_count": 14,
     "metadata": {},
     "output_type": "execute_result"
    }
   ],
   "source": [
    "vectorizer('Hello world, life is great')[:5]"
   ]
  },
  {
   "cell_type": "code",
   "execution_count": 15,
   "id": "58c7a3c3",
   "metadata": {},
   "outputs": [
    {
     "data": {
      "text/plain": [
       "['',\n",
       " '[UNK]',\n",
       " 'the',\n",
       " 'to',\n",
       " 'of',\n",
       " 'and',\n",
       " 'a',\n",
       " 'you',\n",
       " 'i',\n",
       " 'is',\n",
       " 'that',\n",
       " 'in',\n",
       " 'it',\n",
       " 'for',\n",
       " 'this',\n",
       " 'not',\n",
       " 'on',\n",
       " 'be',\n",
       " 'as',\n",
       " 'have',\n",
       " 'are',\n",
       " 'your',\n",
       " 'with',\n",
       " 'if',\n",
       " 'article',\n",
       " 'was',\n",
       " 'or',\n",
       " 'but',\n",
       " 'page',\n",
       " 'my',\n",
       " 'an',\n",
       " 'from',\n",
       " 'by',\n",
       " 'do',\n",
       " 'at',\n",
       " 'about',\n",
       " 'me',\n",
       " 'so',\n",
       " 'wikipedia',\n",
       " 'can',\n",
       " 'what',\n",
       " 'there',\n",
       " 'all',\n",
       " 'has',\n",
       " 'will',\n",
       " 'talk',\n",
       " 'please',\n",
       " 'would',\n",
       " 'its',\n",
       " 'no',\n",
       " 'one',\n",
       " 'just',\n",
       " 'like',\n",
       " 'they',\n",
       " 'he',\n",
       " 'dont',\n",
       " 'which',\n",
       " 'any',\n",
       " 'been',\n",
       " 'should',\n",
       " 'more',\n",
       " 'we',\n",
       " 'some',\n",
       " 'other',\n",
       " 'who',\n",
       " 'see',\n",
       " 'here',\n",
       " 'also',\n",
       " 'his',\n",
       " 'think',\n",
       " 'im',\n",
       " 'because',\n",
       " 'know',\n",
       " 'how',\n",
       " 'am',\n",
       " 'people',\n",
       " 'why',\n",
       " 'edit',\n",
       " 'articles',\n",
       " 'only',\n",
       " 'out',\n",
       " 'up',\n",
       " 'when',\n",
       " 'were',\n",
       " 'use',\n",
       " 'then',\n",
       " 'may',\n",
       " 'time',\n",
       " 'did',\n",
       " 'them',\n",
       " 'now',\n",
       " 'being',\n",
       " 'their',\n",
       " 'than',\n",
       " 'thanks',\n",
       " 'even',\n",
       " 'get',\n",
       " 'make',\n",
       " 'good',\n",
       " 'had',\n",
       " 'very',\n",
       " 'information',\n",
       " 'does',\n",
       " 'could',\n",
       " 'well',\n",
       " 'want',\n",
       " 'such',\n",
       " 'sources',\n",
       " 'way',\n",
       " 'name',\n",
       " 'these',\n",
       " 'deletion',\n",
       " 'pages',\n",
       " 'first',\n",
       " 'help',\n",
       " 'new',\n",
       " 'editing',\n",
       " 'source',\n",
       " 'go',\n",
       " 'need',\n",
       " 'say',\n",
       " 'section',\n",
       " 'edits',\n",
       " 'again',\n",
       " 'thank',\n",
       " 'where',\n",
       " 'user',\n",
       " 'made',\n",
       " 'many',\n",
       " 'much',\n",
       " 'really',\n",
       " 'used',\n",
       " 'most',\n",
       " 'discussion',\n",
       " 'find',\n",
       " 'same',\n",
       " 'ive',\n",
       " 'deleted',\n",
       " 'into',\n",
       " 'fuck',\n",
       " 'those',\n",
       " 'work',\n",
       " 'since',\n",
       " 'before',\n",
       " 'after',\n",
       " 'point',\n",
       " 'add',\n",
       " 'look',\n",
       " 'right',\n",
       " 'read',\n",
       " 'image',\n",
       " 'take',\n",
       " 'still',\n",
       " 'over',\n",
       " 'someone',\n",
       " 'him',\n",
       " 'two',\n",
       " 'back',\n",
       " 'too',\n",
       " 'fact',\n",
       " 'link',\n",
       " 'said',\n",
       " 'own',\n",
       " 'something',\n",
       " 'going',\n",
       " 'youre',\n",
       " 'blocked',\n",
       " 'list',\n",
       " 'stop',\n",
       " 'without',\n",
       " 'content',\n",
       " 'hi',\n",
       " 'under',\n",
       " 'editors',\n",
       " 'our',\n",
       " 'block',\n",
       " 'thats',\n",
       " 'us',\n",
       " 'added',\n",
       " 'utc',\n",
       " 'history',\n",
       " 'another',\n",
       " 'doesnt',\n",
       " 'removed',\n",
       " 'might',\n",
       " 'note',\n",
       " 'however',\n",
       " 'sure',\n",
       " 'place',\n",
       " 'never',\n",
       " 'done',\n",
       " 'welcome',\n",
       " 'her',\n",
       " 'case',\n",
       " 'put',\n",
       " 'personal',\n",
       " 'seems',\n",
       " 'reason',\n",
       " 'better',\n",
       " 'using',\n",
       " 'yourself',\n",
       " 'cant',\n",
       " 'actually',\n",
       " 'ask',\n",
       " 'comment',\n",
       " 'while',\n",
       " 'vandalism',\n",
       " 'feel',\n",
       " 'question',\n",
       " 'anything',\n",
       " 'believe',\n",
       " 'person',\n",
       " 'links',\n",
       " 'things',\n",
       " 'both',\n",
       " 'didnt',\n",
       " 'comments',\n",
       " 'best',\n",
       " 'ill',\n",
       " 'part',\n",
       " 'she',\n",
       " 'hope',\n",
       " 'policy',\n",
       " 'against',\n",
       " 'off',\n",
       " 'keep',\n",
       " 'already',\n",
       " 'free',\n",
       " 'wiki',\n",
       " 'thing',\n",
       " 'nothing',\n",
       " 'change',\n",
       " 'wrong',\n",
       " 'though',\n",
       " 'problem',\n",
       " 'remove',\n",
       " 'little',\n",
       " 'subject',\n",
       " '•',\n",
       " 'others',\n",
       " 'trying',\n",
       " 'tag',\n",
       " 'copyright',\n",
       " 'must',\n",
       " 'understand',\n",
       " 'above',\n",
       " 'few',\n",
       " 'anyone',\n",
       " 'speedy',\n",
       " 'last',\n",
       " 'issue',\n",
       " 'give',\n",
       " 'questions',\n",
       " 'agree',\n",
       " 'rather',\n",
       " 'years',\n",
       " 'let',\n",
       " '2',\n",
       " 'different',\n",
       " 'editor',\n",
       " 'long',\n",
       " 'reliable',\n",
       " 'making',\n",
       " 'world',\n",
       " 'come',\n",
       " 'sorry',\n",
       " 'isnt',\n",
       " 'reference',\n",
       " 'mean',\n",
       " 'continue',\n",
       " 'try',\n",
       " 'references',\n",
       " 'found',\n",
       " 'doing',\n",
       " 'text',\n",
       " 'great',\n",
       " 'leave',\n",
       " 'says',\n",
       " 'got',\n",
       " 'probably',\n",
       " 'english',\n",
       " 'original',\n",
       " 'every',\n",
       " '1',\n",
       " 'simply',\n",
       " 'word',\n",
       " 'users',\n",
       " 'fair',\n",
       " 'hello',\n",
       " 'either',\n",
       " 'check',\n",
       " 'least',\n",
       " 'adding',\n",
       " 'ip',\n",
       " 'show',\n",
       " 'site',\n",
       " 'state',\n",
       " 'else',\n",
       " 'delete',\n",
       " 'consensus',\n",
       " 'enough',\n",
       " 'request',\n",
       " 'far',\n",
       " 'opinion',\n",
       " 'created',\n",
       " 'around',\n",
       " 'life',\n",
       " 'day',\n",
       " 'between',\n",
       " 'through',\n",
       " 'example',\n",
       " 'view',\n",
       " 'yes',\n",
       " 'reverted',\n",
       " 'yet',\n",
       " 'etc',\n",
       " 'id',\n",
       " 'matter',\n",
       " 'shit',\n",
       " 'u',\n",
       " 'war',\n",
       " 'notable',\n",
       " 'contributions',\n",
       " 'given',\n",
       " 'thought',\n",
       " 'material',\n",
       " 'book',\n",
       " 'admin',\n",
       " 'write',\n",
       " 'post',\n",
       " 'down',\n",
       " 'account',\n",
       " 'clearly',\n",
       " 'having',\n",
       " 'encyclopedia',\n",
       " 'lot',\n",
       " 'support',\n",
       " 'real',\n",
       " 'bad',\n",
       " 'message',\n",
       " 'needs',\n",
       " 'images',\n",
       " 'tell',\n",
       " 'seem',\n",
       " 'called',\n",
       " 'maybe',\n",
       " 'evidence',\n",
       " 'instead',\n",
       " 'ever',\n",
       " '3',\n",
       " 'correct',\n",
       " 'saying',\n",
       " 'clear',\n",
       " 'always',\n",
       " 'number',\n",
       " 'important',\n",
       " 'further',\n",
       " 'quite',\n",
       " 'perhaps',\n",
       " 'old',\n",
       " '—',\n",
       " 'true',\n",
       " 'until',\n",
       " 'hate',\n",
       " 'states',\n",
       " 'whether',\n",
       " 'consider',\n",
       " 'written',\n",
       " 'claim',\n",
       " 'language',\n",
       " 'media',\n",
       " 'bit',\n",
       " 'once',\n",
       " 'guidelines',\n",
       " 'term',\n",
       " 'criteria',\n",
       " 'research',\n",
       " 'nigger',\n",
       " 'version',\n",
       " 'times',\n",
       " 'website',\n",
       " 'getting',\n",
       " 'fucking',\n",
       " 'theres',\n",
       " 'review',\n",
       " 'mention',\n",
       " 'pov',\n",
       " 'oh',\n",
       " 'makes',\n",
       " 'several',\n",
       " 'revert',\n",
       " 'considered',\n",
       " 'changes',\n",
       " 'cannot',\n",
       " 'words',\n",
       " 'idea',\n",
       " 'title',\n",
       " 'suck',\n",
       " 'address',\n",
       " 'notice',\n",
       " 'based',\n",
       " 'top',\n",
       " 'following',\n",
       " 'current',\n",
       " 'each',\n",
       " 'listed',\n",
       " 'means',\n",
       " 'possible',\n",
       " 'group',\n",
       " 'facts',\n",
       " 'regarding',\n",
       " 'care',\n",
       " 'rules',\n",
       " 'second',\n",
       " 'main',\n",
       " 'template',\n",
       " 'mentioned',\n",
       " 'general',\n",
       " 'year',\n",
       " 'attack',\n",
       " 'kind',\n",
       " 'whole',\n",
       " 'course',\n",
       " 'statement',\n",
       " 'left',\n",
       " 'hey',\n",
       " 'date',\n",
       " 'include',\n",
       " 'seen',\n",
       " 'three',\n",
       " 'issues',\n",
       " 'start',\n",
       " 'ass',\n",
       " 'ok',\n",
       " 'end',\n",
       " 'wikipedias',\n",
       " 'call',\n",
       " 'less',\n",
       " 'topic',\n",
       " 'gay',\n",
       " 'suggest',\n",
       " 'man',\n",
       " 'including',\n",
       " 'happy',\n",
       " 'sense',\n",
       " 'provide',\n",
       " 'create',\n",
       " 'big',\n",
       " 'days',\n",
       " 'myself',\n",
       " 'american',\n",
       " 'redirect',\n",
       " 'known',\n",
       " 'sentence',\n",
       " 'move',\n",
       " 'appropriate',\n",
       " 'changed',\n",
       " 'love',\n",
       " 'notability',\n",
       " 'explain',\n",
       " 'started',\n",
       " 'included',\n",
       " 'removing',\n",
       " 'project',\n",
       " 'anyway',\n",
       " 'info',\n",
       " 'mind',\n",
       " 'school',\n",
       " '2005',\n",
       " 'next',\n",
       " 'looking',\n",
       " 'although',\n",
       " 'picture',\n",
       " 'relevant',\n",
       " 'four',\n",
       " 'die',\n",
       " 'sign',\n",
       " 'answer',\n",
       " 'style',\n",
       " 'away',\n",
       " 'per',\n",
       " 'order',\n",
       " 'warning',\n",
       " 'wont',\n",
       " 'recent',\n",
       " 'youve',\n",
       " 'interest',\n",
       " 'community',\n",
       " 'summary',\n",
       " 'later',\n",
       " 'lol',\n",
       " 'claims',\n",
       " 'currently',\n",
       " 'discuss',\n",
       " 'interested',\n",
       " 'policies',\n",
       " 'attacks',\n",
       " 'especially',\n",
       " 'wish',\n",
       " 'wrote',\n",
       " 'able',\n",
       " 'specific',\n",
       " 'public',\n",
       " 'taken',\n",
       " 'writing',\n",
       " 'neutral',\n",
       " 'full',\n",
       " 'names',\n",
       " 'within',\n",
       " '4',\n",
       " 'position',\n",
       " 'related',\n",
       " 'below',\n",
       " 'line',\n",
       " 'wanted',\n",
       " 'during',\n",
       " 'appears',\n",
       " 'stuff',\n",
       " 'certainly',\n",
       " 'official',\n",
       " 'nice',\n",
       " 'itself',\n",
       " 'faith',\n",
       " 'everyone',\n",
       " 'wasnt',\n",
       " 'live',\n",
       " 'report',\n",
       " 'completely',\n",
       " 'according',\n",
       " 'unless',\n",
       " 'common',\n",
       " 'pretty',\n",
       " 'country',\n",
       " 'everything',\n",
       " 'looks',\n",
       " 'due',\n",
       " 'single',\n",
       " 'hes',\n",
       " 'process',\n",
       " 'contribs',\n",
       " 'news',\n",
       " 'involved',\n",
       " 'god',\n",
       " 'fat',\n",
       " 'therefore',\n",
       " 'obviously',\n",
       " 'remember',\n",
       " 'lead',\n",
       " 'hard',\n",
       " 'admins',\n",
       " 'came',\n",
       " 'edited',\n",
       " 'web',\n",
       " 'stay',\n",
       " 'learn',\n",
       " 'response',\n",
       " 'future',\n",
       " 'past',\n",
       " 'asked',\n",
       " 'truth',\n",
       " 'reading',\n",
       " 'power',\n",
       " '2006',\n",
       " 'stupid',\n",
       " 'entry',\n",
       " 'quote',\n",
       " 'posted',\n",
       " 'nor',\n",
       " 'talking',\n",
       " 'placed',\n",
       " '5',\n",
       " 'ago',\n",
       " 'similar',\n",
       " 'email',\n",
       " 'game',\n",
       " 'published',\n",
       " 'exactly',\n",
       " 'today',\n",
       " 'reasons',\n",
       " 'paragraph',\n",
       " 'faggot',\n",
       " 'city',\n",
       " 'argument',\n",
       " 'whatever',\n",
       " 'system',\n",
       " 'working',\n",
       " 'false',\n",
       " 'sandbox',\n",
       " 'moron',\n",
       " 'political',\n",
       " 'noticed',\n",
       " 'useful',\n",
       " 'havent',\n",
       " 'guy',\n",
       " 'high',\n",
       " 'regards',\n",
       " 'united',\n",
       " 'guess',\n",
       " 'appreciate',\n",
       " 'particular',\n",
       " 'deleting',\n",
       " 'form',\n",
       " 'books',\n",
       " 'government',\n",
       " 'dispute',\n",
       " 'five',\n",
       " 'british',\n",
       " 'reverting',\n",
       " 'major',\n",
       " 'problems',\n",
       " 'national',\n",
       " 'party',\n",
       " 'provided',\n",
       " 'often',\n",
       " 'ones',\n",
       " 'become',\n",
       " 'lets',\n",
       " 'tried',\n",
       " 'side',\n",
       " 'administrator',\n",
       " 'along',\n",
       " 'reply',\n",
       " 'almost',\n",
       " 'needed',\n",
       " 'stated',\n",
       " 'rule',\n",
       " 'took',\n",
       " 'search',\n",
       " 'knowledge',\n",
       " 'banned',\n",
       " 'cheers',\n",
       " 'taking',\n",
       " 'vandalize',\n",
       " '–',\n",
       " 'certain',\n",
       " '2007',\n",
       " 'username',\n",
       " 'fine',\n",
       " 'status',\n",
       " 'law',\n",
       " 'points',\n",
       " 'company',\n",
       " 'otherwise',\n",
       " 'uploaded',\n",
       " 'terms',\n",
       " 'explanation',\n",
       " 'generally',\n",
       " 'sort',\n",
       " 'entire',\n",
       " 'shows',\n",
       " 'description',\n",
       " 'whats',\n",
       " 'recently',\n",
       " 'follow',\n",
       " 'guys',\n",
       " '2008',\n",
       " 'likely',\n",
       " 'film',\n",
       " 'present',\n",
       " 'aware',\n",
       " 'saw',\n",
       " 'definition',\n",
       " 'cited',\n",
       " 'alone',\n",
       " 'google',\n",
       " 'music',\n",
       " 'soon',\n",
       " 'indeed',\n",
       " 'decide',\n",
       " 'ban',\n",
       " 'wp',\n",
       " 'appear',\n",
       " 'views',\n",
       " 'week',\n",
       " 'open',\n",
       " 'citation',\n",
       " 'contributing',\n",
       " 'actual',\n",
       " 'set',\n",
       " 'interesting',\n",
       " 'piece',\n",
       " 'c',\n",
       " 'short',\n",
       " 'white',\n",
       " 'told',\n",
       " 'theory',\n",
       " 'area',\n",
       " 'improve',\n",
       " 'external',\n",
       " 'small',\n",
       " 'story',\n",
       " 'contact',\n",
       " 'simple',\n",
       " '2004',\n",
       " 'various',\n",
       " 'allowed',\n",
       " 'moved',\n",
       " 'test',\n",
       " 'internet',\n",
       " 'obvious',\n",
       " 'family',\n",
       " 'band',\n",
       " 'attention',\n",
       " 'arent',\n",
       " 'proposed',\n",
       " 'jew',\n",
       " 'themselves',\n",
       " 'members',\n",
       " 'wouldnt',\n",
       " 'result',\n",
       " 'disagree',\n",
       " 'thus',\n",
       " 'cunt',\n",
       " 'went',\n",
       " 'type',\n",
       " 'sites',\n",
       " 'ie',\n",
       " 'context',\n",
       " 'mr',\n",
       " 'previous',\n",
       " 'nonsense',\n",
       " 'actions',\n",
       " 'tags',\n",
       " 'cite',\n",
       " 'works',\n",
       " '10',\n",
       " 'citations',\n",
       " 'jews',\n",
       " 'university',\n",
       " 're',\n",
       " 'enjoy',\n",
       " 'conflict',\n",
       " 'hours',\n",
       " 'shouldnt',\n",
       " 'proper',\n",
       " 'bias',\n",
       " 'category',\n",
       " 'job',\n",
       " 'longer',\n",
       " 'file',\n",
       " 'together',\n",
       " 'hell',\n",
       " 'sourced',\n",
       " 'sucks',\n",
       " 'addition',\n",
       " 'happened',\n",
       " 'avoid',\n",
       " 'automatically',\n",
       " 'author',\n",
       " 'valid',\n",
       " 'black',\n",
       " 'creating',\n",
       " 'deal',\n",
       " 'worked',\n",
       " 'npov',\n",
       " 'goes',\n",
       " 'himself',\n",
       " 'seriously',\n",
       " 'john',\n",
       " 'death',\n",
       " 'proof',\n",
       " 'respect',\n",
       " 'bitch',\n",
       " 'science',\n",
       " 'human',\n",
       " 'biased',\n",
       " 'comes',\n",
       " 'helpful',\n",
       " 'large',\n",
       " 'accepted',\n",
       " 'available',\n",
       " 'exist',\n",
       " 'series',\n",
       " 'tildes',\n",
       " 'opinions',\n",
       " 'hand',\n",
       " '6',\n",
       " 'indicate',\n",
       " 'sections',\n",
       " 'rights',\n",
       " 'necessary',\n",
       " 'act',\n",
       " 'meaning',\n",
       " 'attempt',\n",
       " 'accept',\n",
       " 'personally',\n",
       " 'statements',\n",
       " 'violation',\n",
       " 'months',\n",
       " 'criticism',\n",
       " 'accurate',\n",
       " 'action',\n",
       " 'usually',\n",
       " 'unblock',\n",
       " 'german',\n",
       " 'pig',\n",
       " 'cause',\n",
       " 'yeah',\n",
       " 'living',\n",
       " 'copy',\n",
       " 'debate',\n",
       " 'upon',\n",
       " 'assume',\n",
       " 'july',\n",
       " 'calling',\n",
       " 'standard',\n",
       " 'video',\n",
       " 'play',\n",
       " 'rest',\n",
       " 'tagged',\n",
       " 'doubt',\n",
       " 'sex',\n",
       " 'multiple',\n",
       " 'theyre',\n",
       " 'historical',\n",
       " 'serious',\n",
       " 'details',\n",
       " 'dick',\n",
       " 'youll',\n",
       " 'separate',\n",
       " 'manual',\n",
       " 'record',\n",
       " 'blocking',\n",
       " 'afd',\n",
       " 'explaining',\n",
       " 'situation',\n",
       " 'refer',\n",
       " 'wikiproject',\n",
       " 'heard',\n",
       " 'online',\n",
       " 'level',\n",
       " 'fix',\n",
       " 'asking',\n",
       " '7',\n",
       " 'complete',\n",
       " 'speak',\n",
       " 'lack',\n",
       " 'messages',\n",
       " 'none',\n",
       " 'prove',\n",
       " 'third',\n",
       " 'subjects',\n",
       " 'church',\n",
       " 'apparently',\n",
       " '2009',\n",
       " 'south',\n",
       " 'rationale',\n",
       " 'bullshit',\n",
       " 'data',\n",
       " 'directly',\n",
       " 'august',\n",
       " 'period',\n",
       " 'legal',\n",
       " 'behavior',\n",
       " 'difference',\n",
       " 'contribute',\n",
       " 'greek',\n",
       " 'huge',\n",
       " 'gets',\n",
       " 'wikipedian',\n",
       " 'couple',\n",
       " 'supposed',\n",
       " 'among',\n",
       " 'early',\n",
       " 'except',\n",
       " 'march',\n",
       " 'close',\n",
       " 'quality',\n",
       " 'space',\n",
       " 'meant',\n",
       " 'countries',\n",
       " 'run',\n",
       " 'team',\n",
       " 'uses',\n",
       " 'military',\n",
       " 'b',\n",
       " 'changing',\n",
       " 'existing',\n",
       " 'specifically',\n",
       " 'significant',\n",
       " '2010',\n",
       " 'pillars',\n",
       " 'fish',\n",
       " 'incorrect',\n",
       " 'culture',\n",
       " 'described',\n",
       " 'produce',\n",
       " 'jewish',\n",
       " '24',\n",
       " 'uk',\n",
       " 'disruptive',\n",
       " 'd',\n",
       " 'field',\n",
       " 'error',\n",
       " 'india',\n",
       " 'head',\n",
       " 'primary',\n",
       " 'friend',\n",
       " 'earlier',\n",
       " 'sometimes',\n",
       " 'outside',\n",
       " '20',\n",
       " 'purpose',\n",
       " 'administrators',\n",
       " 'modern',\n",
       " 'photo',\n",
       " 'table',\n",
       " 'particularly',\n",
       " 't',\n",
       " 'release',\n",
       " 'gave',\n",
       " 'box',\n",
       " 'cases',\n",
       " 'inclusion',\n",
       " 'born',\n",
       " 'pictures',\n",
       " 'readers',\n",
       " 'june',\n",
       " 'character',\n",
       " 'vote',\n",
       " 'okay',\n",
       " 'groups',\n",
       " 'anonymous',\n",
       " 'abuse',\n",
       " 'arguments',\n",
       " 'business',\n",
       " 'shall',\n",
       " 'sock',\n",
       " 'tutorial',\n",
       " 'january',\n",
       " 'friends',\n",
       " 'numbers',\n",
       " 'control',\n",
       " 'thinking',\n",
       " 'member',\n",
       " 'linked',\n",
       " 'happen',\n",
       " 'reported',\n",
       " 'contest',\n",
       " 'coming',\n",
       " 'takes',\n",
       " 'concerns',\n",
       " 'allow',\n",
       " 'wait',\n",
       " 'majority',\n",
       " 'giving',\n",
       " '8',\n",
       " 'bring',\n",
       " 'eg',\n",
       " 'worth',\n",
       " 'kill',\n",
       " 'totally',\n",
       " 'red',\n",
       " 'force',\n",
       " 'decided',\n",
       " 'discussed',\n",
       " 'house',\n",
       " 'finally',\n",
       " 'absolutely',\n",
       " 'putting',\n",
       " 'scientific',\n",
       " 'respond',\n",
       " 'mistake',\n",
       " 'decision',\n",
       " 'de',\n",
       " 'lost',\n",
       " 'entirely',\n",
       " '100',\n",
       " 'towards',\n",
       " 'merely',\n",
       " 'home',\n",
       " 'neither',\n",
       " 'dear',\n",
       " 'independent',\n",
       " 'international',\n",
       " 'song',\n",
       " 'balls',\n",
       " 'wants',\n",
       " 'possibly',\n",
       " 'unsigned',\n",
       " 'million',\n",
       " 'irrelevant',\n",
       " 'standards',\n",
       " 'april',\n",
       " '12',\n",
       " 'press',\n",
       " 'figure',\n",
       " 'organization',\n",
       " 'looked',\n",
       " 'inappropriate',\n",
       " 'chance',\n",
       " 'posting',\n",
       " 'population',\n",
       " 'advice',\n",
       " 'posts',\n",
       " 'north',\n",
       " 'events',\n",
       " 'unfortunately',\n",
       " 'named',\n",
       " 'album',\n",
       " ...]"
      ]
     },
     "execution_count": 15,
     "metadata": {},
     "output_type": "execute_result"
    }
   ],
   "source": [
    "vectorizer.get_vocabulary()"
   ]
  },
  {
   "cell_type": "code",
   "execution_count": 16,
   "id": "5cb74421",
   "metadata": {},
   "outputs": [],
   "source": [
    "vectorized_text = vectorizer(X.values)"
   ]
  },
  {
   "cell_type": "code",
   "execution_count": 17,
   "id": "0861b2c6",
   "metadata": {},
   "outputs": [
    {
     "data": {
      "text/plain": [
       "159571"
      ]
     },
     "execution_count": 17,
     "metadata": {},
     "output_type": "execute_result"
    }
   ],
   "source": [
    "len(X)"
   ]
  },
  {
   "cell_type": "code",
   "execution_count": 18,
   "id": "0b43b49a",
   "metadata": {
    "scrolled": true
   },
   "outputs": [
    {
     "data": {
      "text/plain": [
       "<tf.Tensor: shape=(159571, 1800), dtype=int64, numpy=\n",
       "array([[  645,    76,     2, ...,     0,     0,     0],\n",
       "       [    1,    54,  2489, ...,     0,     0,     0],\n",
       "       [  425,   441,    70, ...,     0,     0,     0],\n",
       "       ...,\n",
       "       [32445,  7392,   383, ...,     0,     0,     0],\n",
       "       [    5,    12,   534, ...,     0,     0,     0],\n",
       "       [    5,     8,   130, ...,     0,     0,     0]], dtype=int64)>"
      ]
     },
     "execution_count": 18,
     "metadata": {},
     "output_type": "execute_result"
    }
   ],
   "source": [
    "vectorized_text"
   ]
  },
  {
   "cell_type": "code",
   "execution_count": 19,
   "id": "c17828ce",
   "metadata": {},
   "outputs": [],
   "source": [
    "#MCSHBAP - map, chache, shuffle, batch, prefetch from_tensor_slices, List_file\n",
    "dataset = tf.data.Dataset.from_tensor_slices((vectorized_text,y))\n",
    "dataset = dataset.cache()\n",
    "dataset = dataset.shuffle(160000)\n",
    "dataset = dataset.batch(16)\n",
    "dataset = dataset.prefetch(8)#helps bottlenects"
   ]
  },
  {
   "cell_type": "code",
   "execution_count": null,
   "id": "ad53a2c5",
   "metadata": {},
   "outputs": [],
   "source": []
  },
  {
   "cell_type": "code",
   "execution_count": 20,
   "id": "f1366b7a",
   "metadata": {},
   "outputs": [
    {
     "data": {
      "text/plain": [
       "(array([[ 823, 2974,    4, ...,    0,    0,    0],\n",
       "        [ 386,    2,   24, ...,    0,    0,    0],\n",
       "        [  21,  301,    3, ...,    0,    0,    0],\n",
       "        ...,\n",
       "        [1782,  490,   34, ...,    0,    0,    0],\n",
       "        [   7,  225, 1770, ...,    0,    0,    0],\n",
       "        [  46,   33,   15, ...,    0,    0,    0]], dtype=int64),\n",
       " array([[0, 0, 0, 0, 0, 0],\n",
       "        [0, 0, 0, 0, 0, 0],\n",
       "        [0, 0, 0, 0, 0, 0],\n",
       "        [1, 1, 1, 0, 0, 0],\n",
       "        [0, 0, 0, 0, 0, 0],\n",
       "        [0, 0, 0, 0, 0, 0],\n",
       "        [0, 0, 0, 0, 0, 0],\n",
       "        [0, 0, 0, 0, 0, 0],\n",
       "        [0, 0, 0, 0, 0, 0],\n",
       "        [0, 0, 0, 0, 0, 0],\n",
       "        [0, 0, 0, 0, 0, 0],\n",
       "        [0, 0, 0, 0, 0, 0],\n",
       "        [0, 0, 0, 0, 0, 0],\n",
       "        [0, 0, 0, 0, 0, 0],\n",
       "        [0, 0, 0, 0, 0, 0],\n",
       "        [0, 0, 0, 0, 0, 0]], dtype=int64))"
      ]
     },
     "execution_count": 20,
     "metadata": {},
     "output_type": "execute_result"
    }
   ],
   "source": [
    "dataset.as_numpy_iterator().next()"
   ]
  },
  {
   "cell_type": "code",
   "execution_count": 21,
   "id": "bc755259",
   "metadata": {},
   "outputs": [],
   "source": [
    "batch_X,batch_y = dataset.as_numpy_iterator().next()"
   ]
  },
  {
   "cell_type": "code",
   "execution_count": 22,
   "id": "083b7531",
   "metadata": {
    "scrolled": true
   },
   "outputs": [
    {
     "data": {
      "text/plain": [
       "array([[   451,   2217, 129107, ...,      0,      0,      0],\n",
       "       [     7,    119,      3, ...,      0,      0,      0],\n",
       "       [     8,     51,    514, ...,      0,      0,      0],\n",
       "       ...,\n",
       "       [     8,     69,     12, ...,      0,      0,      0],\n",
       "       [  1062,   1058,    179, ...,      0,      0,      0],\n",
       "       [    12,      9,      6, ...,      0,      0,      0]], dtype=int64)"
      ]
     },
     "execution_count": 22,
     "metadata": {},
     "output_type": "execute_result"
    }
   ],
   "source": [
    "batch_X #batch is vectorized text examples #batch_X.shape"
   ]
  },
  {
   "cell_type": "code",
   "execution_count": 23,
   "id": "44643dea",
   "metadata": {},
   "outputs": [
    {
     "data": {
      "text/plain": [
       "(16, 6)"
      ]
     },
     "execution_count": 23,
     "metadata": {},
     "output_type": "execute_result"
    }
   ],
   "source": [
    "batch_y.shape"
   ]
  },
  {
   "cell_type": "code",
   "execution_count": 24,
   "id": "98698515",
   "metadata": {},
   "outputs": [
    {
     "data": {
      "text/plain": [
       "9974"
      ]
     },
     "execution_count": 24,
     "metadata": {},
     "output_type": "execute_result"
    }
   ],
   "source": [
    "len(dataset)"
   ]
  },
  {
   "cell_type": "code",
   "execution_count": 25,
   "id": "55f48888",
   "metadata": {},
   "outputs": [
    {
     "data": {
      "text/plain": [
       "159584"
      ]
     },
     "execution_count": 25,
     "metadata": {},
     "output_type": "execute_result"
    }
   ],
   "source": [
    "len(dataset)*16"
   ]
  },
  {
   "cell_type": "code",
   "execution_count": 26,
   "id": "ded47e75",
   "metadata": {},
   "outputs": [
    {
     "data": {
      "text/plain": [
       "6981"
      ]
     },
     "execution_count": 26,
     "metadata": {},
     "output_type": "execute_result"
    }
   ],
   "source": [
    "int(len(dataset)*.7)"
   ]
  },
  {
   "cell_type": "code",
   "execution_count": 27,
   "id": "7771260f",
   "metadata": {},
   "outputs": [],
   "source": [
    "train = dataset.take(int(len(dataset)*.7))\n",
    "val = dataset.skip(int(len(dataset)*.7)).take(int(len(dataset)*.2))\n",
    "test = dataset.skip(int(len(dataset)*.9)).take(int(len(dataset)*.1))"
   ]
  },
  {
   "cell_type": "code",
   "execution_count": 28,
   "id": "8260444d",
   "metadata": {},
   "outputs": [],
   "source": [
    "train_generator = train.as_numpy_iterator()"
   ]
  },
  {
   "cell_type": "code",
   "execution_count": 29,
   "id": "c5eba84d",
   "metadata": {},
   "outputs": [
    {
     "data": {
      "text/plain": [
       "(array([[  49,   61,   55, ...,    0,    0,    0],\n",
       "        [  20,    7,    6, ...,    0,    0,    0],\n",
       "        [  10,    5, 1028, ...,    0,    0,    0],\n",
       "        ...,\n",
       "        [ 358,   12,    9, ...,    0,    0,    0],\n",
       "        [  48,   11,   29, ...,    0,    0,    0],\n",
       "        [  82,    8,  660, ...,    0,    0,    0]], dtype=int64),\n",
       " array([[0, 0, 0, 0, 0, 0],\n",
       "        [1, 0, 0, 0, 0, 0],\n",
       "        [0, 0, 0, 0, 0, 0],\n",
       "        [0, 0, 0, 0, 0, 0],\n",
       "        [0, 0, 0, 0, 0, 0],\n",
       "        [0, 0, 0, 0, 0, 0],\n",
       "        [0, 0, 0, 0, 0, 0],\n",
       "        [0, 0, 0, 0, 0, 0],\n",
       "        [0, 0, 0, 0, 0, 0],\n",
       "        [0, 0, 0, 0, 0, 0],\n",
       "        [0, 0, 0, 0, 0, 0],\n",
       "        [0, 0, 0, 0, 0, 0],\n",
       "        [0, 0, 0, 0, 0, 0],\n",
       "        [1, 0, 0, 0, 0, 0],\n",
       "        [0, 0, 0, 0, 0, 0],\n",
       "        [0, 0, 0, 0, 0, 0]], dtype=int64))"
      ]
     },
     "execution_count": 29,
     "metadata": {},
     "output_type": "execute_result"
    }
   ],
   "source": [
    "train_generator.next()"
   ]
  },
  {
   "cell_type": "markdown",
   "id": "f9c218ce",
   "metadata": {},
   "source": [
    "## 3.Create Sequential Model"
   ]
  },
  {
   "cell_type": "code",
   "execution_count": 30,
   "id": "070b2a9f",
   "metadata": {},
   "outputs": [],
   "source": [
    "from tensorflow.keras.models import Sequential\n",
    "from tensorflow.keras.layers import LSTM,Dropout, Bidirectional,Dense,Embedding"
   ]
  },
  {
   "cell_type": "code",
   "execution_count": 31,
   "id": "2fd1c22c",
   "metadata": {},
   "outputs": [
    {
     "data": {
      "text/plain": [
       "array([0, 0, 0, 0, 0, 0], dtype=int64)"
      ]
     },
     "execution_count": 31,
     "metadata": {},
     "output_type": "execute_result"
    }
   ],
   "source": [
    "y[0]#y.shape"
   ]
  },
  {
   "cell_type": "code",
   "execution_count": 32,
   "id": "047c002d",
   "metadata": {},
   "outputs": [],
   "source": [
    "model = Sequential()\n",
    "#Create the embedding Layer\n",
    "model.add(Embedding(MAX_FEATURES+1,32))\n",
    "#bidirectional LSTM Layer\n",
    "model.add(Bidirectional(LSTM(32, activation = 'tanh')))\n",
    "#Feature extractor Fully connected Layers\n",
    "model.add(Dense(128, activation='relu'))\n",
    "model.add(Dense(256, activation='relu'))\n",
    "model.add(Dense(128, activation='relu'))\n",
    "#Final Layer\n",
    "model.add(Dense(6, activation='sigmoid'))"
   ]
  },
  {
   "cell_type": "code",
   "execution_count": 33,
   "id": "0404d02a",
   "metadata": {},
   "outputs": [],
   "source": [
    "model.compile(loss='BinaryCrossentropy', optimizer = 'Adam')"
   ]
  },
  {
   "cell_type": "code",
   "execution_count": 34,
   "id": "1efe16ba",
   "metadata": {},
   "outputs": [
    {
     "name": "stdout",
     "output_type": "stream",
     "text": [
      "Model: \"sequential\"\n",
      "_________________________________________________________________\n",
      " Layer (type)                Output Shape              Param #   \n",
      "=================================================================\n",
      " embedding (Embedding)       (None, None, 32)          6400032   \n",
      "                                                                 \n",
      " bidirectional (Bidirection  (None, 64)                16640     \n",
      " al)                                                             \n",
      "                                                                 \n",
      " dense (Dense)               (None, 128)               8320      \n",
      "                                                                 \n",
      " dense_1 (Dense)             (None, 256)               33024     \n",
      "                                                                 \n",
      " dense_2 (Dense)             (None, 128)               32896     \n",
      "                                                                 \n",
      " dense_3 (Dense)             (None, 6)                 774       \n",
      "                                                                 \n",
      "=================================================================\n",
      "Total params: 6491686 (24.76 MB)\n",
      "Trainable params: 6491686 (24.76 MB)\n",
      "Non-trainable params: 0 (0.00 Byte)\n",
      "_________________________________________________________________\n"
     ]
    }
   ],
   "source": [
    "model.summary()"
   ]
  },
  {
   "cell_type": "code",
   "execution_count": null,
   "id": "44610f15",
   "metadata": {},
   "outputs": [
    {
     "name": "stdout",
     "output_type": "stream",
     "text": [
      "3694/6981 [==============>...............] - ETA: 48:26 - loss: 0.0731"
     ]
    }
   ],
   "source": [
    "history = model.fit(train, epochs = 1, validation_data = val)"
   ]
  },
  {
   "cell_type": "code",
   "execution_count": 36,
   "id": "a7366ba1",
   "metadata": {},
   "outputs": [
    {
     "data": {
      "text/plain": [
       "{'loss': [0.0627034530043602], 'val_loss': [0.04539046809077263]}"
      ]
     },
     "execution_count": 36,
     "metadata": {},
     "output_type": "execute_result"
    }
   ],
   "source": [
    "history.history"
   ]
  },
  {
   "cell_type": "code",
   "execution_count": 37,
   "id": "fe82cc0f",
   "metadata": {},
   "outputs": [
    {
     "name": "stdout",
     "output_type": "stream",
     "text": [
      "Collecting matplotlib\n",
      "  Obtaining dependency information for matplotlib from https://files.pythonhosted.org/packages/40/d9/c1784db9db0d484c8e5deeafbaac0d6ed66e165c6eb4a74fb43a5fa947d9/matplotlib-3.8.0-cp311-cp311-win_amd64.whl.metadata\n",
      "  Downloading matplotlib-3.8.0-cp311-cp311-win_amd64.whl.metadata (5.9 kB)\n",
      "Collecting contourpy>=1.0.1 (from matplotlib)\n",
      "  Obtaining dependency information for contourpy>=1.0.1 from https://files.pythonhosted.org/packages/e5/76/94bc17eb868f8c7397f8fdfdeae7661c1b9a35f3a7219da308596e8c252a/contourpy-1.1.1-cp311-cp311-win_amd64.whl.metadata\n",
      "  Downloading contourpy-1.1.1-cp311-cp311-win_amd64.whl.metadata (5.9 kB)\n",
      "Collecting cycler>=0.10 (from matplotlib)\n",
      "  Using cached cycler-0.11.0-py3-none-any.whl (6.4 kB)\n",
      "Collecting fonttools>=4.22.0 (from matplotlib)\n",
      "  Obtaining dependency information for fonttools>=4.22.0 from https://files.pythonhosted.org/packages/95/b6/9a5133deb5838c4dbe3ea27e8dba123622aa5112d43a079e9587636b4faf/fonttools-4.42.1-cp311-cp311-win_amd64.whl.metadata\n",
      "  Downloading fonttools-4.42.1-cp311-cp311-win_amd64.whl.metadata (154 kB)\n",
      "     ---------------------------------------- 0.0/154.1 kB ? eta -:--:--\n",
      "     --------------- ----------------------- 61.4/154.1 kB 1.7 MB/s eta 0:00:01\n",
      "     --------------------------- ---------- 112.6/154.1 kB 1.6 MB/s eta 0:00:01\n",
      "     -------------------------------------- 154.1/154.1 kB 1.5 MB/s eta 0:00:00\n",
      "Collecting kiwisolver>=1.0.1 (from matplotlib)\n",
      "  Obtaining dependency information for kiwisolver>=1.0.1 from https://files.pythonhosted.org/packages/1e/37/d3c2d4ba2719059a0f12730947bbe1ad5ee8bff89e8c35319dcb2c9ddb4c/kiwisolver-1.4.5-cp311-cp311-win_amd64.whl.metadata\n",
      "  Downloading kiwisolver-1.4.5-cp311-cp311-win_amd64.whl.metadata (6.5 kB)\n",
      "Requirement already satisfied: numpy<2,>=1.21 in c:\\users\\91701\\appdata\\local\\programs\\python\\python311\\lib\\site-packages (from matplotlib) (1.24.3)\n",
      "Requirement already satisfied: packaging>=20.0 in c:\\users\\91701\\appdata\\local\\programs\\python\\python311\\lib\\site-packages (from matplotlib) (23.1)\n",
      "Requirement already satisfied: pillow>=6.2.0 in c:\\users\\91701\\appdata\\local\\programs\\python\\python311\\lib\\site-packages (from matplotlib) (10.0.0)\n",
      "Collecting pyparsing>=2.3.1 (from matplotlib)\n",
      "  Obtaining dependency information for pyparsing>=2.3.1 from https://files.pythonhosted.org/packages/39/92/8486ede85fcc088f1b3dba4ce92dd29d126fd96b0008ea213167940a2475/pyparsing-3.1.1-py3-none-any.whl.metadata\n",
      "  Downloading pyparsing-3.1.1-py3-none-any.whl.metadata (5.1 kB)\n",
      "Requirement already satisfied: python-dateutil>=2.7 in c:\\users\\91701\\appdata\\local\\programs\\python\\python311\\lib\\site-packages (from matplotlib) (2.8.2)\n",
      "Requirement already satisfied: six>=1.5 in c:\\users\\91701\\appdata\\local\\programs\\python\\python311\\lib\\site-packages (from python-dateutil>=2.7->matplotlib) (1.16.0)\n",
      "Downloading matplotlib-3.8.0-cp311-cp311-win_amd64.whl (7.6 MB)\n",
      "   ---------------------------------------- 0.0/7.6 MB ? eta -:--:--\n",
      "   ---------------------------------------- 0.1/7.6 MB 1.7 MB/s eta 0:00:05\n",
      "   - -------------------------------------- 0.2/7.6 MB 2.5 MB/s eta 0:00:03\n",
      "   - -------------------------------------- 0.3/7.6 MB 2.9 MB/s eta 0:00:03\n",
      "   -- ------------------------------------- 0.4/7.6 MB 2.4 MB/s eta 0:00:03\n",
      "   -- ------------------------------------- 0.5/7.6 MB 2.5 MB/s eta 0:00:03\n",
      "   --- ------------------------------------ 0.7/7.6 MB 2.9 MB/s eta 0:00:03\n",
      "   ---- ----------------------------------- 0.9/7.6 MB 3.0 MB/s eta 0:00:03\n",
      "   ----- ---------------------------------- 1.1/7.6 MB 3.1 MB/s eta 0:00:03\n",
      "   ------ --------------------------------- 1.2/7.6 MB 3.0 MB/s eta 0:00:03\n",
      "   ------- -------------------------------- 1.4/7.6 MB 3.2 MB/s eta 0:00:02\n",
      "   ------- -------------------------------- 1.4/7.6 MB 3.1 MB/s eta 0:00:03\n",
      "   ------- -------------------------------- 1.4/7.6 MB 3.1 MB/s eta 0:00:03\n",
      "   -------- ------------------------------- 1.6/7.6 MB 2.7 MB/s eta 0:00:03\n",
      "   --------- ------------------------------ 1.8/7.6 MB 2.9 MB/s eta 0:00:03\n",
      "   --------- ------------------------------ 1.9/7.6 MB 2.8 MB/s eta 0:00:03\n",
      "   ---------- ----------------------------- 2.0/7.6 MB 2.8 MB/s eta 0:00:03\n",
      "   ----------- ---------------------------- 2.2/7.6 MB 2.9 MB/s eta 0:00:02\n",
      "   ------------ --------------------------- 2.3/7.6 MB 2.9 MB/s eta 0:00:02\n",
      "   ------------ --------------------------- 2.4/7.6 MB 2.9 MB/s eta 0:00:02\n",
      "   ------------- -------------------------- 2.7/7.6 MB 3.0 MB/s eta 0:00:02\n",
      "   --------------- ------------------------ 2.9/7.6 MB 3.0 MB/s eta 0:00:02\n",
      "   --------------- ------------------------ 3.0/7.6 MB 3.0 MB/s eta 0:00:02\n",
      "   ---------------- ----------------------- 3.1/7.6 MB 3.1 MB/s eta 0:00:02\n",
      "   ----------------- ---------------------- 3.3/7.6 MB 3.1 MB/s eta 0:00:02\n",
      "   ------------------ --------------------- 3.5/7.6 MB 3.2 MB/s eta 0:00:02\n",
      "   ------------------- -------------------- 3.7/7.6 MB 3.2 MB/s eta 0:00:02\n",
      "   ------------------- -------------------- 3.8/7.6 MB 3.2 MB/s eta 0:00:02\n",
      "   --------------------- ------------------ 4.1/7.6 MB 3.3 MB/s eta 0:00:02\n",
      "   ---------------------- ----------------- 4.3/7.6 MB 3.3 MB/s eta 0:00:02\n",
      "   ----------------------- ---------------- 4.4/7.6 MB 3.4 MB/s eta 0:00:01\n",
      "   ------------------------ --------------- 4.6/7.6 MB 3.3 MB/s eta 0:00:01\n",
      "   ------------------------ --------------- 4.8/7.6 MB 3.3 MB/s eta 0:00:01\n",
      "   ------------------------- -------------- 4.9/7.6 MB 3.4 MB/s eta 0:00:01\n",
      "   -------------------------- ------------- 5.0/7.6 MB 3.4 MB/s eta 0:00:01\n",
      "   --------------------------- ------------ 5.2/7.6 MB 3.4 MB/s eta 0:00:01\n",
      "   ---------------------------- ----------- 5.4/7.6 MB 3.4 MB/s eta 0:00:01\n",
      "   ----------------------------- ---------- 5.6/7.6 MB 3.4 MB/s eta 0:00:01\n",
      "   ----------------------------- ---------- 5.7/7.6 MB 3.4 MB/s eta 0:00:01\n",
      "   ------------------------------- -------- 6.0/7.6 MB 3.5 MB/s eta 0:00:01\n",
      "   ------------------------------- -------- 6.1/7.6 MB 3.5 MB/s eta 0:00:01\n",
      "   -------------------------------- ------- 6.2/7.6 MB 3.4 MB/s eta 0:00:01\n",
      "   --------------------------------- ------ 6.5/7.6 MB 3.5 MB/s eta 0:00:01\n",
      "   ---------------------------------- ----- 6.6/7.6 MB 3.5 MB/s eta 0:00:01\n",
      "   ----------------------------------- ---- 6.7/7.6 MB 3.5 MB/s eta 0:00:01\n",
      "   ------------------------------------ --- 6.9/7.6 MB 3.5 MB/s eta 0:00:01\n",
      "   ------------------------------------ --- 7.0/7.6 MB 3.5 MB/s eta 0:00:01\n",
      "   ------------------------------------- -- 7.2/7.6 MB 3.5 MB/s eta 0:00:01\n",
      "   -------------------------------------- - 7.4/7.6 MB 3.5 MB/s eta 0:00:01\n",
      "   ---------------------------------------  7.6/7.6 MB 3.5 MB/s eta 0:00:01\n",
      "   ---------------------------------------  7.6/7.6 MB 3.5 MB/s eta 0:00:01\n",
      "   ---------------------------------------- 7.6/7.6 MB 3.4 MB/s eta 0:00:00\n",
      "Downloading contourpy-1.1.1-cp311-cp311-win_amd64.whl (480 kB)\n",
      "   ---------------------------------------- 0.0/480.5 kB ? eta -:--:--\n",
      "   --- ------------------------------------ 41.0/480.5 kB 2.0 MB/s eta 0:00:01\n",
      "   -------- ------------------------------- 102.4/480.5 kB 1.2 MB/s eta 0:00:01\n",
      "   -------------- ------------------------- 174.1/480.5 kB 1.3 MB/s eta 0:00:01\n",
      "   --------------- ------------------------ 184.3/480.5 kB 1.1 MB/s eta 0:00:01\n",
      "   ---------------------------- ----------- 348.2/480.5 kB 1.5 MB/s eta 0:00:01\n",
      "   ---------------------------------------  471.0/480.5 kB 1.8 MB/s eta 0:00:01\n",
      "   ---------------------------------------- 480.5/480.5 kB 1.7 MB/s eta 0:00:00\n",
      "Downloading fonttools-4.42.1-cp311-cp311-win_amd64.whl (2.1 MB)\n",
      "   ---------------------------------------- 0.0/2.1 MB ? eta -:--:--\n",
      "   - -------------------------------------- 0.1/2.1 MB 3.2 MB/s eta 0:00:01\n",
      "   -- ------------------------------------- 0.1/2.1 MB 1.6 MB/s eta 0:00:02\n",
      "   -- ------------------------------------- 0.1/2.1 MB 1.6 MB/s eta 0:00:02\n",
      "   -- ------------------------------------- 0.1/2.1 MB 1.6 MB/s eta 0:00:02\n",
      "   -- ------------------------------------- 0.1/2.1 MB 1.6 MB/s eta 0:00:02\n",
      "   -- ------------------------------------- 0.1/2.1 MB 1.6 MB/s eta 0:00:02\n",
      "   -- ------------------------------------- 0.1/2.1 MB 1.6 MB/s eta 0:00:02\n",
      "   -- ------------------------------------- 0.1/2.1 MB 1.6 MB/s eta 0:00:02\n",
      "   ------- -------------------------------- 0.4/2.1 MB 1.1 MB/s eta 0:00:02\n",
      "   -------- ------------------------------- 0.5/2.1 MB 1.0 MB/s eta 0:00:02\n",
      "   --------- ------------------------------ 0.5/2.1 MB 1.1 MB/s eta 0:00:02\n",
      "   ----------- ---------------------------- 0.6/2.1 MB 1.1 MB/s eta 0:00:02\n",
      "   ------------ --------------------------- 0.7/2.1 MB 1.2 MB/s eta 0:00:02\n",
      "   -------------- ------------------------- 0.8/2.1 MB 1.3 MB/s eta 0:00:02\n",
      "   ---------------- ----------------------- 0.9/2.1 MB 1.3 MB/s eta 0:00:01\n",
      "   -------------------- ------------------- 1.1/2.1 MB 1.5 MB/s eta 0:00:01\n",
      "   ---------------------- ----------------- 1.2/2.1 MB 1.6 MB/s eta 0:00:01\n",
      "   ------------------------ --------------- 1.3/2.1 MB 1.7 MB/s eta 0:00:01\n",
      "   ------------------------- -------------- 1.4/2.1 MB 1.6 MB/s eta 0:00:01\n",
      "   ----------------------------- ---------- 1.5/2.1 MB 1.7 MB/s eta 0:00:01\n",
      "   ------------------------------ --------- 1.6/2.1 MB 1.8 MB/s eta 0:00:01\n",
      "   --------------------------------- ------ 1.8/2.1 MB 1.8 MB/s eta 0:00:01\n",
      "   ----------------------------------- ---- 1.9/2.1 MB 1.9 MB/s eta 0:00:01\n",
      "   ---------------------------------------  2.1/2.1 MB 2.0 MB/s eta 0:00:01\n",
      "   ---------------------------------------  2.1/2.1 MB 2.0 MB/s eta 0:00:01\n",
      "   ---------------------------------------- 2.1/2.1 MB 1.9 MB/s eta 0:00:00\n",
      "Downloading kiwisolver-1.4.5-cp311-cp311-win_amd64.whl (56 kB)\n",
      "   ---------------------------------------- 0.0/56.1 kB ? eta -:--:--\n",
      "   ----------------------------- ---------- 41.0/56.1 kB 1.9 MB/s eta 0:00:01\n",
      "   ---------------------------------------- 56.1/56.1 kB 728.2 kB/s eta 0:00:00\n",
      "Downloading pyparsing-3.1.1-py3-none-any.whl (103 kB)\n",
      "   ---------------------------------------- 0.0/103.1 kB ? eta -:--:--\n",
      "   --------------- ------------------------ 41.0/103.1 kB ? eta -:--:--\n",
      "   ---------------------------------------- 103.1/103.1 kB 2.0 MB/s eta 0:00:00\n",
      "Installing collected packages: pyparsing, kiwisolver, fonttools, cycler, contourpy, matplotlib\n",
      "Successfully installed contourpy-1.1.1 cycler-0.11.0 fonttools-4.42.1 kiwisolver-1.4.5 matplotlib-3.8.0 pyparsing-3.1.1\n"
     ]
    }
   ],
   "source": [
    "!pip install matplotlib\n"
   ]
  },
  {
   "cell_type": "code",
   "execution_count": 38,
   "id": "e314a2eb",
   "metadata": {},
   "outputs": [],
   "source": [
    "from matplotlib import pyplot as plt"
   ]
  },
  {
   "cell_type": "code",
   "execution_count": 39,
   "id": "455f48fb",
   "metadata": {},
   "outputs": [
    {
     "data": {
      "text/plain": [
       "<Figure size 800x500 with 0 Axes>"
      ]
     },
     "metadata": {},
     "output_type": "display_data"
    },
    {
     "data": {
      "image/png": "[encoded data removed]",
      "text/plain": [
       "<Figure size 640x480 with 1 Axes>"
      ]
     },
     "metadata": {},
     "output_type": "display_data"
    }
   ],
   "source": [
    "plt.figure(figsize=(8,5))\n",
    "pd.DataFrame(history.history).plot()\n",
    "plt.show()"
   ]
  },
  {
   "cell_type": "markdown",
   "id": "727b7911",
   "metadata": {},
   "source": [
    "# 4.Make Predictions"
   ]
  },
  {
   "cell_type": "code",
   "execution_count": null,
   "id": "09d57fd8",
   "metadata": {},
   "outputs": [],
   "source": [
    "input_text = vectorizer('You freaking suck! I am going to hurt you')"
   ]
  },
  {
   "cell_type": "code",
   "execution_count": null,
   "id": "0a1466f5",
   "metadata": {},
   "outputs": [],
   "source": [
    "input_text"
   ]
  },
  {
   "cell_type": "code",
   "execution_count": null,
   "id": "58583c37",
   "metadata": {},
   "outputs": [],
   "source": [
    "np.expand_dims(input_text,0)"
   ]
  },
  {
   "cell_type": "code",
   "execution_count": null,
   "id": "4668206e",
   "metadata": {},
   "outputs": [],
   "source": [
    "df.columns"
   ]
  },
  {
   "cell_type": "code",
   "execution_count": null,
   "id": "5991bf4d",
   "metadata": {},
   "outputs": [],
   "source": [
    "batch = test.as_numpy_iterator().next()"
   ]
  },
  {
   "cell_type": "code",
   "execution_count": null,
   "id": "48d86df0",
   "metadata": {},
   "outputs": [],
   "source": [
    "batch_X,batch_y = test.as_numpy_iterator().next()"
   ]
  },
  {
   "cell_type": "code",
   "execution_count": null,
   "id": "79a25022",
   "metadata": {},
   "outputs": [],
   "source": [
    "model.predict(np.expand_dims(input_text,0))"
   ]
  },
  {
   "cell_type": "code",
   "execution_count": null,
   "id": "bba68069",
   "metadata": {},
   "outputs": [],
   "source": [
    "res = model.predict(np.expand_dims(input_text,0))"
   ]
  },
  {
   "cell_type": "code",
   "execution_count": null,
   "id": "a13988f0",
   "metadata": {},
   "outputs": [],
   "source": [
    "res"
   ]
  },
  {
   "cell_type": "markdown",
   "id": "b738ee43",
   "metadata": {},
   "source": [
    "# 5.Evaluation Model"
   ]
  },
  {
   "cell_type": "code",
   "execution_count": null,
   "id": "bd9780d4",
   "metadata": {},
   "outputs": [],
   "source": [
    "from tensorflow.keras.metircs import Precision, Recall, CategoricalAccuracy"
   ]
  },
  {
   "cell_type": "code",
   "execution_count": null,
   "id": "30cb1815",
   "metadata": {},
   "outputs": [],
   "source": [
    "pre = precision()\n",
    "re = Recall()\n",
    "acc = CategoricalAccuracy()"
   ]
  },
  {
   "cell_type": "code",
   "execution_count": null,
   "id": "bd7aaa08",
   "metadata": {},
   "outputs": [],
   "source": [
    "for batch in test.as_numpy_iteration():\n",
    "    #unpack the batch\n",
    "    x_true, y _true = batch\n",
    "    #Make a prediction\n",
    "    yhat = model.predict(X_true)\n",
    "    \n",
    "    #Flatten the predictions\n",
    "    y_true = y_true.flatten()\n",
    "    yhat = yhat.flatten()\n",
    "    \n",
    "    pre.update_state(y_true,yhat)\n",
    "    re.update_state(y_true,yhat)\n",
    "    acc.update_state(y_true,yhat)"
   ]
  },
  {
   "cell_type": "code",
   "execution_count": null,
   "id": "4a0de9ab",
   "metadata": {},
   "outputs": [],
   "source": [
    "print(f'Precision: {pre.result().numpy()},Recall:{re.result().numpy()},Accuracy:{acc.result().numpy()}')"
   ]
  },
  {
   "cell_type": "markdown",
   "id": "6889d258",
   "metadata": {},
   "source": [
    "# 5.Test and Gradio"
   ]
  },
  {
   "cell_type": "code",
   "execution_count": null,
   "id": "2c49094f",
   "metadata": {},
   "outputs": [],
   "source": [
    "!pip install gradio jinja2"
   ]
  },
  {
   "cell_type": "code",
   "execution_count": null,
   "id": "837dbafa",
   "metadata": {},
   "outputs": [],
   "source": [
    "import tensorflow as tf\n",
    "import gradio as gr "
   ]
  },
  {
   "cell_type": "code",
   "execution_count": null,
   "id": "526faa54",
   "metadata": {},
   "outputs": [],
   "source": [
    "model.save('toxicity.h5')"
   ]
  },
  {
   "cell_type": "code",
   "execution_count": null,
   "id": "bc12a53c",
   "metadata": {},
   "outputs": [],
   "source": [
    "model = tf.keras.models.load_model('toxicity.h5')"
   ]
  },
  {
   "cell_type": "code",
   "execution_count": null,
   "id": "56f7bc90",
   "metadata": {},
   "outputs": [],
   "source": [
    "input_str = vectorizer('hey i freaken hate you!')"
   ]
  },
  {
   "cell_type": "code",
   "execution_count": null,
   "id": "c630a213",
   "metadata": {},
   "outputs": [],
   "source": [
    "res = model.predict(np.expand_dims(input_str,0))"
   ]
  },
  {
   "cell_type": "code",
   "execution_count": null,
   "id": "4a14522e",
   "metadata": {},
   "outputs": [],
   "source": [
    "df.columns[2:]"
   ]
  },
  {
   "cell_type": "code",
   "execution_count": null,
   "id": "1aa55ec5",
   "metadata": {},
   "outputs": [],
   "source": [
    "res"
   ]
  },
  {
   "cell_type": "code",
   "execution_count": null,
   "id": "6452dc8b",
   "metadata": {},
   "outputs": [],
   "source": [
    "def score_comment(comment):\n",
    "    vectorized_comment = vectorizer([comment])\n",
    "    results = model.predict(vectorized_comment)\n",
    "    \n",
    "    text = ''\n",
    "    for idx, col in enumerate(df.columns[2:]):\n",
    "        text += '{}: {}\\n'.format(col, results[0][idx]>0.5)\n",
    "    \n",
    "    return text\n"
   ]
  },
  {
   "cell_type": "code",
   "execution_count": null,
   "id": "928783de",
   "metadata": {},
   "outputs": [],
   "source": [
    "interface = gr.Interface(fn=score_comment, \n",
    "                         inputs=gr.inputs.Textbox(lines=2, placeholder='Comment to score'),\n",
    "                        outputs='text')"
   ]
  },
  {
   "cell_type": "code",
   "execution_count": null,
   "id": "4ceb22b1",
   "metadata": {},
   "outputs": [],
   "source": [
    "interface.launch(share=True)"
   ]
  }
 ],
 "metadata": {
  "kernelspec": {
   "display_name": "Python 3 (ipykernel)",
   "language": "python",
   "name": "python3"
  },
  "language_info": {
   "codemirror_mode": {
    "name": "ipython",
    "version": 3
   },
   "file_extension": ".py",
   "mimetype": "text/x-python",
   "name": "python",
   "nbconvert_exporter": "python",
   "pygments_lexer": "ipython3",
   "version": "3.11.4"
  }
 },
 "nbformat": 4,
 "nbformat_minor": 5
}
